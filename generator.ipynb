{
 "cells": [
  {
   "cell_type": "markdown",
   "metadata": {},
   "source": [
    "At first, we define test vector generators, who generate a collection of test vectors. Each test vector is descriped as `[(factor, value), (factor, value), ...]`."
   ]
  },
  {
   "cell_type": "code",
   "execution_count": 1,
   "metadata": {
    "collapsed": true
   },
   "outputs": [],
   "source": [
    "import itertools\n",
    "import collections\n",
    "import os\n",
    "import json\n",
    "import re"
   ]
  },
  {
   "cell_type": "code",
   "execution_count": 2,
   "metadata": {
    "collapsed": true
   },
   "outputs": [],
   "source": [
    "def parse_json(fn):\n",
    "    '''Parse json object\n",
    "\n",
    "    This function parses a JSON file. Unlike the builtin `json` module, it\n",
    "    supports \"//\" like comments, uses 'str' for string representation and\n",
    "    preserves the key orders.\n",
    "\n",
    "    Args:\n",
    "        fn (str): Name of the file to parse\n",
    "\n",
    "    Returns:\n",
    "        OrderedDict: A dict representing the file content\n",
    "\n",
    "    '''\n",
    "    def ununicodify(obj):\n",
    "        result = None\n",
    "        if isinstance(obj, collections.OrderedDict):\n",
    "            result = collections.OrderedDict()\n",
    "            for k, v in obj.iteritems():\n",
    "                k1 = str(k) if isinstance(k, unicode) else k\n",
    "                result[k1] = ununicodify(v)\n",
    "        elif isinstance(obj, list):\n",
    "            result = []\n",
    "            for v in obj:\n",
    "                result.append(ununicodify(v))\n",
    "        elif isinstance(obj, unicode):\n",
    "            result = str(obj)\n",
    "        else:\n",
    "            result = obj\n",
    "        return result\n",
    "    content = file(fn).read()\n",
    "    content = re.sub(r\"\\s+//.*$\", \"\", content)\n",
    "    return ununicodify(json.loads(content, object_pairs_hook=collections.OrderedDict))\n"
   ]
  },
  {
   "cell_type": "code",
   "execution_count": 3,
   "metadata": {
    "collapsed": false
   },
   "outputs": [],
   "source": [
    "class SimpleVectorGenerator:\n",
    "    def __init__(self, test_factors, raw_vectors=None):\n",
    "        self.test_factors = test_factors\n",
    "        self.raw_vectors = raw_vectors if raw_vectors else []\n",
    "\n",
    "    def iteritems(self):\n",
    "        # expand each vector to support `[0, [1, 2], [3, 4]]`\n",
    "        for item in self.raw_vectors:\n",
    "            iters = [x if isinstance(x, list) else [x] for x in item]\n",
    "            for v in itertools.product(*iters):\n",
    "                yield collections.OrderedDict(zip(self.test_factors, v))\n"
   ]
  },
  {
   "cell_type": "code",
   "execution_count": 4,
   "metadata": {
    "collapsed": false
   },
   "outputs": [
    {
     "name": "stdout",
     "output_type": "stream",
     "text": [
      "OrderedDict([('nnodes', 0), ('nmics', 1), ('test_id', 2)])\n",
      "OrderedDict([('nnodes', 1), ('nmics', 1), ('test_id', 3)])\n",
      "OrderedDict([('nnodes', 1), ('nmics', 2), ('test_id', 3)])\n",
      "OrderedDict([('nnodes', 2), ('nmics', 1), ('test_id', 3)])\n",
      "OrderedDict([('nnodes', 2), ('nmics', 1), ('test_id', 4)])\n"
     ]
    }
   ],
   "source": [
    "test_factors = [\"nnodes\", \"nmics\", \"test_id\"]\n",
    "raw_vectors = [[0, 1, 2], [1, [1, 2], 3], [2, 1, [3, 4]]]\n",
    "generator = SimpleVectorGenerator(test_factors, raw_vectors)\n",
    "for item in generator.iteritems():\n",
    "    print item"
   ]
  },
  {
   "cell_type": "code",
   "execution_count": 5,
   "metadata": {
    "collapsed": true
   },
   "outputs": [],
   "source": [
    "class CartProductVectorGenerator:\n",
    "    def __init__(self, test_factors, factor_values):\n",
    "        self.test_factors = test_factors\n",
    "        self.factor_values = factor_values\n",
    "\n",
    "    def iteritems(self):\n",
    "        ordered_factor_values = [self.factor_values[k] for k in self.test_factors]\n",
    "        for v in itertools.product(*ordered_factor_values):\n",
    "            yield collections.OrderedDict(zip(self.test_factors, v))\n"
   ]
  },
  {
   "cell_type": "code",
   "execution_count": 6,
   "metadata": {
    "collapsed": false
   },
   "outputs": [
    {
     "name": "stdout",
     "output_type": "stream",
     "text": [
      "OrderedDict([('nnodes', 1), ('nmics', 0), ('test_id', 1)])\n",
      "OrderedDict([('nnodes', 1), ('nmics', 1), ('test_id', 1)])\n",
      "OrderedDict([('nnodes', 1), ('nmics', 2), ('test_id', 1)])\n",
      "OrderedDict([('nnodes', 1), ('nmics', 3), ('test_id', 1)])\n",
      "OrderedDict([('nnodes', 2), ('nmics', 0), ('test_id', 1)])\n",
      "OrderedDict([('nnodes', 2), ('nmics', 1), ('test_id', 1)])\n",
      "OrderedDict([('nnodes', 2), ('nmics', 2), ('test_id', 1)])\n",
      "OrderedDict([('nnodes', 2), ('nmics', 3), ('test_id', 1)])\n",
      "OrderedDict([('nnodes', 3), ('nmics', 0), ('test_id', 1)])\n",
      "OrderedDict([('nnodes', 3), ('nmics', 1), ('test_id', 1)])\n",
      "OrderedDict([('nnodes', 3), ('nmics', 2), ('test_id', 1)])\n",
      "OrderedDict([('nnodes', 3), ('nmics', 3), ('test_id', 1)])\n"
     ]
    }
   ],
   "source": [
    "test_factors = [\"nnodes\", \"nmics\", \"test_id\"]\n",
    "factor_values = {\n",
    "    \"nnodes\": [1, 2, 3],\n",
    "    \"nmics\": [0, 1, 2, 3],\n",
    "    \"test_id\": [1]\n",
    "}\n",
    "generator = CartProductVectorGenerator(test_factors, factor_values)\n",
    "for item in generator.iteritems():\n",
    "    print item"
   ]
  },
  {
   "cell_type": "markdown",
   "metadata": {},
   "source": [
    "We then define some test case generators. Test case generator takes an test vector as the input, together with some auxiliary information, such as the project root, the output root and the working directory. It's responsible to generate necessary aux files as well as a formal description of the test case."
   ]
  },
  {
   "cell_type": "code",
   "execution_count": 7,
   "metadata": {
    "collapsed": false
   },
   "outputs": [],
   "source": [
    "class CustomCaseGenerator:\n",
    "    def __init__(self, module, func, args):\n",
    "        if not os.path.exists(module):\n",
    "            raise RuntimeError(\"Module '%s' does not exists\" % module)\n",
    "        import_result = {}\n",
    "        execfile(module, import_result)\n",
    "        if not func in import_result:\n",
    "            raise RuntimeError(\"Can not find function '%s' in '%s'\" % (func, module))\n",
    "        self.func = import_result[func]\n",
    "        self.args = args\n",
    "\n",
    "    def make_case(self, conf_root, output_root, case_path, test_vector):\n",
    "        '''Generate a test case according to the specified test vector\n",
    "        \n",
    "        Args:\n",
    "            conf_root (str): Absolute path containing the project config.\n",
    "            output_root (str): Absolute path for the output root.\n",
    "            case_path (str): Absolute path for the test case.\n",
    "            test_vector (OrderedDict): Test case identification.\n",
    "            \n",
    "        Returns:\n",
    "            dict: Test case specification\n",
    "            \n",
    "            Test case specification containing the following information to run a test case:\n",
    "            \n",
    "                {\n",
    "                    \"cmd\": [\"ls\", \"-l\"]       # The command and its arguments\n",
    "                    \"envs\": {\"K\": \"V\", ...}   # The environment variables to set\n",
    "                    \"results\": [\"STDOUT\"]     # The result files to preserve\n",
    "                    \"run\": {\"nnodes\": 1, ...} # The runner specific information\n",
    "                }\n",
    "            \n",
    "        '''\n",
    "        args = dict(self.args)\n",
    "        args[\"conf_root\"] = conf_root\n",
    "        args[\"output_root\"] = output_root\n",
    "        args[\"case_path\"] = case_path\n",
    "        args[\"test_vector\"] = test_vector\n",
    "        case_spec = self.func(**args)\n",
    "        \n",
    "        return case_spec\n",
    "\n",
    "\n",
    "class OutputOrganizer:\n",
    "    def __init__(self, version=1):\n",
    "        if version != 1:\n",
    "            raise RangeError(\"Unsupported output version '%s': only allow 1\" % version)\n",
    "        self.version = version\n",
    "   \n",
    "    def get_case_path(self, test_vector):\n",
    "        segs = [\"{0}-{1}\".format(k, v) for k, v in test_vector.iteritems()]\n",
    "        return os.path.join(*segs)\n",
    "    \n",
    "    def get_project_info_path(self):\n",
    "        return \"TestProject.json\"\n",
    "        \n",
    "    def get_case_spec_path(self, test_vector):\n",
    "        return os.path.join(self.get_case_path(test_vector), \"TestCase.json\")"
   ]
  },
  {
   "cell_type": "markdown",
   "metadata": {},
   "source": [
    "The design is that we seperate the test vector generation, test case generation and test case organization. So we can add more vector generation method, case generation method and organization methods as needed.\n",
    "\n",
    "## Test case generator\n",
    "\n",
    "Generate necessary files for a specified test case in a specified directory. It can also generate files in anywhere inside the output directory. But it should not rely on the directory layout of the cases. The idea is that case generator shall put all necessary files in case-specific directory, so the case is self-contained. But since case usually rely on some shared public files, they can be put in the output directory."
   ]
  },
  {
   "cell_type": "code",
   "execution_count": 8,
   "metadata": {
    "collapsed": false
   },
   "outputs": [],
   "source": [
    "class TestProject:\n",
    "    def __init__(self, conf_root):\n",
    "        if not os.path.isabs(conf_root):\n",
    "            conf_root = os.path.abspath(conf_root)\n",
    "        self.conf_root = conf_root\n",
    "        \n",
    "        spec_file = os.path.join(self.conf_root, \"TestProjectConfig.json\")\n",
    "        spec = parse_json(spec_file)\n",
    "        \n",
    "        # TODO: Refactor to support multiple versions in the future.\n",
    "        project_format = spec[\"format\"]\n",
    "        if int(project_format) != 1:\n",
    "            raise RuntimeError(\"Unsupported project format '%s': only allow '1'\" % project_format)\n",
    "        \n",
    "        # basic project information\n",
    "        project_info = spec[\"project\"]\n",
    "        self.name = project_info[\"name\"]\n",
    "        self.test_factors = project_info[\"test_factors\"]\n",
    "        data_files = project_info.get(\"data_files\", [])\n",
    "        self.data_files = []\n",
    "        for item in data_files:\n",
    "            if os.path.isabs(item):\n",
    "                self.data_files.append(item)\n",
    "            else:\n",
    "                path = os.path.normpath(os.path.join(self.conf_root, item))\n",
    "                self.data_files.append(path)\n",
    "\n",
    "        # build test vector generator\n",
    "        test_vector_generator_name = project_info[\"test_vector_generator\"]\n",
    "        if test_vector_generator_name == \"cart_product\":\n",
    "            args = spec[\"cart_product_vector_generator\"]\n",
    "            test_factor_values = args[\"test_factor_values\"]\n",
    "            self.test_vector_generator = CartProductVectorGenerator(self.test_factors,\n",
    "                                                                    test_factor_values)\n",
    "        elif test_vector_generator_name == \"simple\":\n",
    "            args = spec[\"simple_vector_generator\"]\n",
    "            test_vectors = args[\"test_vectors\"]\n",
    "            self.test_vector_generator = SimpleVectorGenerator(self.test_factors,\n",
    "                                                               test_vectors)\n",
    "        else:\n",
    "            raise RangeError(\"Unknown test vector generator '%s'\" % test_vector_generator_name)\n",
    "           \n",
    "        # build test case generator\n",
    "        test_case_generator_name = project_info[\"test_case_generator\"]\n",
    "        if test_case_generator_name == \"custom\":\n",
    "            info = spec[\"custom_case_generator\"]\n",
    "            module = info[\"import\"]\n",
    "            if not os.path.isabs(module):\n",
    "                module = os.path.normpath(os.path.join(self.conf_root, module))\n",
    "            func = info[\"func\"]\n",
    "            args = info[\"args\"]\n",
    "            self.test_case_generator = CustomCaseGenerator(module, func, args)\n",
    "        else:\n",
    "            raise RangeError(\"Unknown test case generator '%s'\" % test_case_generator_name)\n",
    "        \n",
    "        # build output organizer\n",
    "        self.output_organizer = OutputOrganizer(version=1)\n",
    "        \n",
    "    def write(self, output_root):\n",
    "        if not os.path.isabs(output_root):\n",
    "            output_root = os.path.abspath(output_root)\n",
    "        if not os.path.exists(output_root):\n",
    "            os.makedirs(output_root)\n",
    "        for case in self.test_vector_generator.iteritems():\n",
    "            case_path = self.output_organizer.get_case_path(case)\n",
    "            case_fullpath = os.path.join(output_root, case_path)\n",
    "            if not os.path.exists(case_fullpath):\n",
    "                os.makedirs(case_fullpath)            \n",
    "            cwd = os.path.abspath(os.getcwd())\n",
    "            os.chdir(case_fullpath)\n",
    "            try:\n",
    "                case_spec = self.test_case_generator.make_case(self.conf_root, output_root, case_fullpath, case)\n",
    "            finally:\n",
    "                os.chdir(cwd)\n",
    "            case_spec_path = self.output_organizer.get_case_spec_path(case)\n",
    "            case_spec_fullpath = os.path.join(output_root, case_spec_path)\n",
    "            json.dump(case_spec, file(case_spec_fullpath, \"w\"), indent=4)\n",
    "        # TODO: handle data_files\n",
    "        info = [(\"name\", self.name), (\"test_factors\", self.test_factors), (\"data_files\", self.data_files)]\n",
    "        info = collections.OrderedDict(info)\n",
    "        x = [case.values() for case in self.test_vector_generator.iteritems()]\n",
    "        y = [self.output_organizer.get_case_path(case) for case in self.test_vector_generator.iteritems()]\n",
    "        test_defs = collections.OrderedDict()\n",
    "        test_defs[\"test_vectors\"] = x\n",
    "        test_defs[\"case_paths\"] = y\n",
    "        info[\"test_cases\"] = test_defs\n",
    "        project_info_path = self.output_organizer.get_project_info_path()\n",
    "        project_info_fullpath = os.path.join(output_root, project_info_path)\n",
    "        json.dump(info, file(project_info_fullpath, \"w\"), indent=4)\n",
    "            "
   ]
  },
  {
   "cell_type": "code",
   "execution_count": 9,
   "metadata": {
    "collapsed": false
   },
   "outputs": [],
   "source": [
    "project = TestProject(\"tests/generator/new\")\n",
    "project.write(\"result\")"
   ]
  },
  {
   "cell_type": "code",
   "execution_count": null,
   "metadata": {
    "collapsed": true
   },
   "outputs": [],
   "source": []
  }
 ],
 "metadata": {
  "kernelspec": {
   "display_name": "Python 2",
   "language": "python",
   "name": "python2"
  },
  "language_info": {
   "codemirror_mode": {
    "name": "ipython",
    "version": 2
   },
   "file_extension": ".py",
   "mimetype": "text/x-python",
   "name": "python",
   "nbconvert_exporter": "python",
   "pygments_lexer": "ipython2",
   "version": "2.7.10"
  }
 },
 "nbformat": 4,
 "nbformat_minor": 0
}
